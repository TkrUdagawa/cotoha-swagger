{
 "cells": [
  {
   "cell_type": "code",
   "execution_count": 1,
   "metadata": {},
   "outputs": [],
   "source": [
    "import time\n",
    "import swagger_client\n",
    "from swagger_client.rest import ApiException\n",
    "from pprint import pprint"
   ]
  },
  {
   "cell_type": "code",
   "execution_count": 2,
   "metadata": {},
   "outputs": [],
   "source": [
    "client_id = \"your client id\"\n",
    "client_secret = \"your client secret\""
   ]
  },
  {
   "cell_type": "code",
   "execution_count": null,
   "metadata": {},
   "outputs": [],
   "source": [
    "configuration = swagger_client.configuration.Configuration()\n",
    "api_instance = swagger_client.DefaultApi(swagger_client.ApiClient(configuration))\n",
    "body = swagger_client.Auth(client_id=client_id, client_secret=client_secret)\n",
    "try:\n",
    "    api_response = api_instance.v1_oauth_accesstokens_post(body)\n",
    "    pprint(api_response)\n",
    "    access_token = api_response.access_token\n",
    "except ApiException as e:\n",
    "    print(\"Exception when calling DefaultApi->v1_oauth_accesstokens_post: %s\\n\" % e)"
   ]
  },
  {
   "cell_type": "code",
   "execution_count": 4,
   "metadata": {},
   "outputs": [
    {
     "name": "stdout",
     "output_type": "stream",
     "text": [
      "{'message': '',\n",
      " 'result': [{'chunk_info': {'chunk_funkc': None,\n",
      "                            'chunk_head': 0,\n",
      "                            'dep': 'D',\n",
      "                            'head': 2,\n",
      "                            'id': 0,\n",
      "                            'links': [],\n",
      "                            'predicate': None},\n",
      "             'tokens': [{'attributes': {},\n",
      "                         'dependency_labels': [{'label': 'case',\n",
      "                                                'token_id': 1}],\n",
      "                         'feature': None,\n",
      "                         'form': '今日',\n",
      "                         'id': 0,\n",
      "                         'kana': 'キョウ',\n",
      "                         'lemma': '今日',\n",
      "                         'pos': '名詞'},\n",
      "                        {'attributes': {},\n",
      "                         'dependency_labels': None,\n",
      "                         'feature': None,\n",
      "                         'form': 'は',\n",
      "                         'id': 1,\n",
      "                         'kana': 'ハ',\n",
      "                         'lemma': 'は',\n",
      "                         'pos': '連用助詞'}]},\n",
      "            {'chunk_info': {'chunk_funkc': None,\n",
      "                            'chunk_head': 0,\n",
      "                            'dep': 'D',\n",
      "                            'head': 2,\n",
      "                            'id': 1,\n",
      "                            'links': [],\n",
      "                            'predicate': None},\n",
      "             'tokens': [{'attributes': {},\n",
      "                         'dependency_labels': [{'label': 'aux', 'token_id': 3}],\n",
      "                         'feature': None,\n",
      "                         'form': 'い',\n",
      "                         'id': 2,\n",
      "                         'kana': 'イ',\n",
      "                         'lemma': 'いい',\n",
      "                         'pos': '形容詞語幹'},\n",
      "                        {'attributes': {},\n",
      "                         'dependency_labels': None,\n",
      "                         'feature': None,\n",
      "                         'form': 'い',\n",
      "                         'id': 3,\n",
      "                         'kana': 'イ',\n",
      "                         'lemma': 'い',\n",
      "                         'pos': '形容詞接尾辞'}]},\n",
      "            {'chunk_info': {'chunk_funkc': None,\n",
      "                            'chunk_head': 0,\n",
      "                            'dep': 'O',\n",
      "                            'head': -1,\n",
      "                            'id': 2,\n",
      "                            'links': [{'label': 'time', 'link': 0},\n",
      "                                      {'label': 'adjectivals', 'link': 1}],\n",
      "                            'predicate': []},\n",
      "             'tokens': [{'attributes': {},\n",
      "                         'dependency_labels': [{'label': 'nmod', 'token_id': 0},\n",
      "                                               {'label': 'amod', 'token_id': 2},\n",
      "                                               {'label': 'cop', 'token_id': 5}],\n",
      "                         'feature': None,\n",
      "                         'form': '天気',\n",
      "                         'id': 4,\n",
      "                         'kana': 'テンキ',\n",
      "                         'lemma': '天気',\n",
      "                         'pos': '名詞'},\n",
      "                        {'attributes': {},\n",
      "                         'dependency_labels': None,\n",
      "                         'feature': None,\n",
      "                         'form': 'です',\n",
      "                         'id': 5,\n",
      "                         'kana': 'デス',\n",
      "                         'lemma': 'です',\n",
      "                         'pos': '判定詞'}]}],\n",
      " 'status': 0}\n"
     ]
    }
   ],
   "source": [
    "# call parse\n",
    "api_client = swagger_client.ApiClient(configuration=configuration,\n",
    "                                     header_name=\"Authorization\",\n",
    "                                     header_value=\"Bearer {}\".format(access_token))\n",
    "\n",
    "api_instance = swagger_client.DefaultApi(api_client)\n",
    "body = swagger_client.Parse(sentence=\"今日はいい天気です\")\n",
    "api_response = api_instance.api_dev_nlp_v1_parse_post(body)\n",
    "pprint(api_response)\n"
   ]
  },
  {
   "cell_type": "code",
   "execution_count": 5,
   "metadata": {},
   "outputs": [
    {
     "name": "stdout",
     "output_type": "stream",
     "text": [
      "{'message': '',\n",
      " 'result': [{'_class': 'DAT',\n",
      "             'begin_pos': 0,\n",
      "             'end_pos': 2,\n",
      "             'extended_class': '',\n",
      "             'form': '今日',\n",
      "             'info': None,\n",
      "             'source': 'basic',\n",
      "             'std_form': '今日'}],\n",
      " 'status': 0}\n"
     ]
    }
   ],
   "source": [
    "# call ne\n",
    "\n",
    "body = swagger_client.Ne(sentence=\"今日はいい天気です\")\n",
    "api_response = api_instance.api_dev_nlp_v1_ne_post(body)\n",
    "pprint(api_response)\n"
   ]
  },
  {
   "cell_type": "code",
   "execution_count": 6,
   "metadata": {},
   "outputs": [
    {
     "name": "stdout",
     "output_type": "stream",
     "text": [
      "{'message': '', 'result': [{'form': '天気', 'score': 19.8861}], 'status': 0}\n"
     ]
    }
   ],
   "source": [
    "# call keyword\n",
    "\n",
    "body = swagger_client.Keyword(document=\"今日はいい天気です\")\n",
    "api_response = api_instance.api_dev_nlp_v1_keyword_post(body)\n",
    "pprint(api_response)"
   ]
  },
  {
   "cell_type": "code",
   "execution_count": 7,
   "metadata": {},
   "outputs": [
    {
     "name": "stdout",
     "output_type": "stream",
     "text": [
      "{'message': 'OK',\n",
      " 'result': {'coreference': [{'referents': [{'form': '太郎',\n",
      "                                            'referent_id': 0,\n",
      "                                            'sentence_id': 0,\n",
      "                                            'token_id_from': 0,\n",
      "                                            'token_id_to': 0},\n",
      "                                           {'form': '彼',\n",
      "                                            'referent_id': 1,\n",
      "                                            'sentence_id': 1,\n",
      "                                            'token_id_from': 0,\n",
      "                                            'token_id_to': 0}],\n",
      "                             'representative_id': 0}],\n",
      "            'tokens': [['太郎', 'は', '公園', 'に', '行', 'っ', 'た', '。'],\n",
      "                       ['彼', 'は', '友人', 'です', '。']]},\n",
      " 'status': 0}\n"
     ]
    }
   ],
   "source": [
    "# call coreference\n",
    "\n",
    "body = swagger_client.Coreference(document=[\"太郎は公園に行った。\", \"彼は友人です。\"], type=\"default\")\n",
    "api_response = api_instance.api_dev_nlp_v1_coreference_post(body)\n",
    "pprint(api_response)"
   ]
  },
  {
   "cell_type": "code",
   "execution_count": 8,
   "metadata": {},
   "outputs": [
    {
     "name": "stdout",
     "output_type": "stream",
     "text": [
      "{'message': 'OK', 'result': {'score': 0.88565135}, 'status': 0}\n"
     ]
    }
   ],
   "source": [
    "body = swagger_client.Similarity(s1=\"近くのレストランはどこですか？\", s2=\"このあたりの定食屋はどこにありますか？\", type=\"default\")\n",
    "api_response = api_instance.api_dev_nlp_v1_similarity_post(body)\n",
    "pprint(api_response)"
   ]
  },
  {
   "cell_type": "code",
   "execution_count": 10,
   "metadata": {},
   "outputs": [
    {
     "name": "stdout",
     "output_type": "stream",
     "text": [
      "{'message': '',\n",
      " 'result': {'dialog_act': ['information-seeking'], 'modality': 'interrogative'},\n",
      " 'status': 0}\n"
     ]
    }
   ],
   "source": [
    "body = swagger_client.SentenceType(sentence=\"あなたの名前は何ですか？\", type=\"default\")\n",
    "api_response = api_instance.api_dev_nlp_v1_sentence_type_post(body)\n",
    "pprint(api_response)"
   ]
  },
  {
   "cell_type": "code",
   "execution_count": 11,
   "metadata": {},
   "outputs": [
    {
     "name": "stdout",
     "output_type": "stream",
     "text": [
      "{'message': 'OK',\n",
      " 'result': {'emotional_phrase': [{'emotion': '安心,喜ぶ', 'form': '謳歌'}],\n",
      "            'score': 0.19562121911742972,\n",
      "            'sentiment': 'Positive'},\n",
      " 'status': 0}\n"
     ]
    }
   ],
   "source": [
    "body = swagger_client.Sentiment(sentence=\"人生の春を謳歌しています\")\n",
    "api_response = api_instance.api_dev_nlp_v1_sentiment_post(body)\n",
    "pprint(api_response)"
   ]
  },
  {
   "cell_type": "code",
   "execution_count": 12,
   "metadata": {},
   "outputs": [
    {
     "name": "stdout",
     "output_type": "stream",
     "text": [
      "{'message': 'OK',\n",
      " 'result': [{'fillers': [{'begin_pos': 0, 'end_pos': 5, 'fomr': None},\n",
      "                         {'begin_pos': 5, 'end_pos': 7, 'fomr': None}],\n",
      "             'fixed_sentence': '、今日の打ち合わせでしたっけ。',\n",
      "             'normalized_sentence': 'えーっと、あの、今日の打ち合わせでしたっけ。'},\n",
      "            {'fillers': [{'begin_pos': 6, 'end_pos': 10, 'fomr': None}],\n",
      "             'fixed_sentence': 'すみません、急用が入ってしまって。',\n",
      "             'normalized_sentence': 'すみません、ちょっと、急用が入ってしまって。'}],\n",
      " 'status': 0}\n"
     ]
    }
   ],
   "source": [
    "body = swagger_client.RemoveFiller(text=\"えーーっと、あの、今日の打ち合わせでしたっけ。すみません、ちょっと、急用が入ってしまって。\",\n",
    "  do_segment=True)\n",
    "api_response = api_instance.api_dev_nlp_beta_remove_filler_post(body)\n",
    "pprint(api_response)"
   ]
  },
  {
   "cell_type": "code",
   "execution_count": 13,
   "metadata": {},
   "outputs": [
    {
     "name": "stdout",
     "output_type": "stream",
     "text": [
      "{'message': 'OK',\n",
      " 'result': {'candidates': [{'begin_pos': 0,\n",
      "                            'correction': [{'correct_score': 0.7722403968717316,\n",
      "                                            'form': '音声'},\n",
      "                                           {'correct_score': 0.6619857013879067,\n",
      "                                            'form': '厭戦'},\n",
      "                                           {'correct_score': 0.6554196604056673,\n",
      "                                            'form': '怨念'},\n",
      "                                           {'correct_score': 0.6554196604056673,\n",
      "                                            'form': 'おんねん'},\n",
      "                                           {'correct_score': 0.654462258316514,\n",
      "                                            'form': 'モンセン'}],\n",
      "                            'detect_score': 0.9999968696704667,\n",
      "                            'end_pos': 2,\n",
      "                            'form': '温泉'}],\n",
      "            'score': 0.9999968696704667},\n",
      " 'status': 0}\n"
     ]
    }
   ],
   "source": [
    "body = swagger_client.DetectMisrecognition(sentence=\"温泉認識は誤りを起こす\")\n",
    "api_response = api_instance.api_dev_nlp_beta_detect_misrecognition_post(body)\n",
    "pprint(api_response)"
   ]
  },
  {
   "cell_type": "code",
   "execution_count": 14,
   "metadata": {},
   "outputs": [
    {
     "name": "stdout",
     "output_type": "stream",
     "text": [
      "{'result': '東京は、湿った空気や前線の影響により、晴れ後曇りで、夜は雨となるでしょう。', 'status': 0}\n"
     ]
    }
   ],
   "source": [
    "body = swagger_client.Summary(document=\"前線が太平洋上に停滞しています。一方、高気圧が千島近海にあって、北日本から東日本をゆるやかに覆っています。関東地方は、晴れ時々曇り、ところにより雨となっています。東京は、湿った空気や前線の影響により、晴れ後曇りで、夜は雨となるでしょう。\", sent_len=1)\n",
    "api_response = api_instance.api_dev_nlp_beta_summary_post(body)\n",
    "pprint(api_response)"
   ]
  },
  {
   "cell_type": "code",
   "execution_count": null,
   "metadata": {},
   "outputs": [],
   "source": []
  },
  {
   "cell_type": "code",
   "execution_count": null,
   "metadata": {},
   "outputs": [],
   "source": []
  },
  {
   "cell_type": "code",
   "execution_count": null,
   "metadata": {},
   "outputs": [],
   "source": []
  },
  {
   "cell_type": "code",
   "execution_count": null,
   "metadata": {},
   "outputs": [],
   "source": []
  }
 ],
 "metadata": {
  "kernelspec": {
   "display_name": "Python 3",
   "language": "python",
   "name": "python3"
  },
  "language_info": {
   "codemirror_mode": {
    "name": "ipython",
    "version": 3
   },
   "file_extension": ".py",
   "mimetype": "text/x-python",
   "name": "python",
   "nbconvert_exporter": "python",
   "pygments_lexer": "ipython3",
   "version": "3.6.5"
  }
 },
 "nbformat": 4,
 "nbformat_minor": 2
}
